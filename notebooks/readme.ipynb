{
 "cells": [
  {
   "cell_type": "markdown",
   "metadata": {},
   "source": [
    "# 1. Business Understanding\n"
   ]
  },
  {
   "cell_type": "markdown",
   "metadata": {},
   "source": [
    "# Group Members\n",
    "1. Vuyo Fortune Mathe (578376)\n",
    "2. Ferdinando Storm Speranza (577252)\n",
    "3. Dylan Cheballah (577454)\n",
    "4. Felix  Mandyme (577922)\n",
    "5. Hatlane Lowane (577413)\n",
    "6.  Sibabalwe Phakathi (577973)\n"
   ]
  },
  {
   "cell_type": "markdown",
   "metadata": {},
   "source": [
    "## 1.1 Problem description"
   ]
  },
  {
   "cell_type": "markdown",
   "metadata": {},
   "source": [
    "BC Finance company deals in all home loans. They have a presence across all urban, semi-urban and rural areas. \n",
    "The customer first applies for a home loan after that company validates the customer's eligibility for a loan.\n",
    "The company wants to automate the loan eligibility process (real-time) based on customer detail provided while \n",
    "filling out the online application form. These details are Gender, Marital Status, Education, Number of Dependents, \n",
    "Income, Loan Amount, Credit History, and others. To automate this process, they have given a problem to identify the \n",
    "customer segments, that are eligible for loan amounts so that they can specifically target these customers."
   ]
  },
  {
   "cell_type": "markdown",
   "metadata": {},
   "source": [
    "## 1.2 Exploratory Data Analysis"
   ]
  },
  {
   "cell_type": "markdown",
   "metadata": {},
   "source": [
    "To meet the goal building a predictive model that can accurately classify or predict whether a loan application will be approved or rejected based on the given features or attributes in the dataset. a comprehensive analysis of the dataset was conducted to understand the characteristics of the features, identify missing values, outliers, and any potential correlations or patterns among the variables. we have been given two CSV files raw_data.csv and validation.csv, both csv files contain 12 independent variables and 1 target variable. The only difference is that raw data file has 614 rows whilst the validation file has 367 rows. the raw data file will be used to train the models that will developed for predicting loan eligibility whilst the validation data file will be used to evaluate the model."
   ]
  },
  {
   "cell_type": "markdown",
   "metadata": {},
   "source": [
    "Data analysis is more efficient with visualization hence the matplotlib library was used to visualize the target variable loan status using a pie chart. The pie chart illustrates that 68.7 people out of the 614 in the raw dataset were approved for a loan. The matplotlib library was used to visualize the other libaries and we determined that almost 20% of applicants in the dataset are female, around 65% of the applicants in the dataset are married, about 15% of applicants in the dataset are self-employed, about 85% of applicants have repaid their debts, most of the applicants don’t have dependents, about 80% of the applicants are graduates, most of the applicants are from semi-urban areas. This meant that the dataset was not normally distributed."
   ]
  },
  {
   "cell_type": "markdown",
   "metadata": {},
   "source": [
    "# 2. Data preprocessing\n",
    "This stage of the project was about handling missing data, encoding categorical variables, and performing any necessary feature scaling or transformations to prepare the data for modeling. Through analysis we were able to determine that there are 6 features in the dataset that have missing values. The solution to this problem was to impute missing values by using mean for numerical features and mode for categorical features. Through analysis of the data the loan ID features was found to be irrelevant and therefore was removed from the dataset.\n",
    "\n",
    "Moreover, several columns of the dataset had values in text format for instance the gender feature had categorical values male and female, married had either yes or no etc. The models that are we bui"
   ]
  },
  {
   "cell_type": "markdown",
   "metadata": {},
   "source": [
    "### 3. Problem Statement: \n",
    "Business Opportunity: \n",
    "This document outlines that through the use of machine learning BC Finance Company can \n",
    "automate the loan eligibility process. By using the provided CSV data we can use this in order to \n",
    "evaluate  different dataopints such as credit history , income , number of dependencies etc. \n",
    "Due to the model learning this information it can create less wait times for each customer, this \n",
    "would save BC Company a lot of time and resources as they could use this time to do other \n",
    "tasks. \n",
    "Stakeholders: \n",
    "BC Finance Company: Due to loans being given at a higher faster rate this would allow BC to \n",
    "gain an advantage due to an increase in the home loan customer base, and leading to more \n",
    "happy customers, This date can be utilized to understanding their potential market more. \n",
    "NCR (National Credit Regulator) and other governmental agencies: Having  this model would \n",
    "allow them to understand and better the loan approval process while simultaneously \n",
    "monitoring and ensuring that fair lending processes are occurring. This would allow them to \n",
    "ensure restrictions and laws are followed \n",
    "The recipients: This would allow them to have a quicker and more transparent understanding of \n",
    "their loan eligibility creating more trust between the recipients and BC. Therefore eliminating \n",
    "things such as long waiting times. Due to the process happening in real-time it would allow \n",
    "them to have a better chance of getting the loan as they could adjust any issues that would \n",
    "come up. \n",
    "Investors: Due to them having directly involved and effected in BC’s profitable outcome they \n",
    "have a higher incentive to make sure the model improves their overall scalability and ultimately \n",
    "positive returns \n",
    "Goals: \n",
    "1. Better management: This is due to the system being able to continuously learn \n",
    "eliminating human error, and reliance on manual processes. This will overall improve \n",
    "predictions of loan eligibility. \n",
    "2. Increased customer satisfaction: This would save time for the applicant due to real-time \n",
    "decisions of the model. \n",
    "Constraints: \n",
    "1. Creditors Compliance: BC needs to adhere to these requirements. \n",
    "2. Real-Time : BC would need to strive to almost perfect real-time eligibility. This data \n",
    "would therefore need to be current and precise. \n",
    "##### Hypothesis generation: \n",
    "The following  factors were considered in order to reach the hypothesis. \n",
    "Debt History: \n",
    "• Good-Credit: An individual with a good credit history as they are financially \n",
    "responsible with timely payments the  likelihood of their loan to be  approved is higher. \n",
    "• History of missed payments: If an individual has in past failed to pay when needed to , \n",
    "this would likely decrease their chances of being granted a loan. This indicates the \n",
    "person is not financially stable. \n",
    "Demographics: \n",
    "• Area: Some areas are wealthier than others due to higher salaries and assets(this would \n",
    "be collateral or land) so an individual from a wealthier area would have a higher loan \n",
    "applicant approval \n",
    "• Number of dependents: Due to having more needs to satisfy financially this would allow \n",
    "a less likely hood of a loan being approved. \n",
    "Financial Background: \n",
    "• Employment: Individuals that’s don’t have jobs would have a likely chance of their loan \n",
    "not being approved \n",
    "• Income level: Individuals with higher income have a higher chance of the loan being \n",
    "accepted.  \n",
    "• Amount: Loans that are much higher would allow a less likelihood of approval. \n",
    "Due to these factors, as well as a few others and the relationship between these factors the \n",
    "learning model would ultimately become more accurate at making the loan classifications and \n",
    "even possibly provide other useful datapoints to the company."
   ]
  }
 ],
 "metadata": {
  "language_info": {
   "name": "python"
  }
 },
 "nbformat": 4,
 "nbformat_minor": 2
}
