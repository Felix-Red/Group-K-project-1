{
 "cells": [
  {
   "cell_type": "markdown",
   "metadata": {},
   "source": [
    "# 1. Business Understanding\n"
   ]
  },
  {
   "cell_type": "markdown",
   "metadata": {},
   "source": [
    "## 1.1 Problem description"
   ]
  },
  {
   "cell_type": "markdown",
   "metadata": {},
   "source": [
    "BC Finance company deals in all home loans. They have a presence across all urban, semi-urban and rural areas. \n",
    "The customer first applies for a home loan after that company validates the customer's eligibility for a loan.\n",
    "The company wants to automate the loan eligibility process (real-time) based on customer detail provided while \n",
    "filling out the online application form. These details are Gender, Marital Status, Education, Number of Dependents, \n",
    "Income, Loan Amount, Credit History, and others. To automate this process, they have given a problem to identify the \n",
    "customer segments, that are eligible for loan amounts so that they can specifically target these customers."
   ]
  },
  {
   "cell_type": "markdown",
   "metadata": {},
   "source": [
    "## 1.2 Exploratory Data Analysis"
   ]
  },
  {
   "cell_type": "markdown",
   "metadata": {},
   "source": [
    "To meet the goal building a predictive model that can accurately classify or predict whether a loan application will be approved or rejected based on the given features or attributes in the dataset. a comprehensive analysis of the dataset was conducted to understand the characteristics of the features, identify missing values, outliers, and any potential correlations or patterns among the variables. we have been given two CSV files raw_data.csv and validation.csv, both csv files contain 12 independent variables and 1 target variable. The only difference is that raw data file has 614 rows whilst the validation file has 367 rows. the raw data file will be used to train the models that will developed for predicting loan eligibility whilst the validation data file will be used to evaluate the model."
   ]
  },
  {
   "cell_type": "markdown",
   "metadata": {},
   "source": [
    "Data analysis is more efficient with visualization hence the matplotlib library was used to visualize the target variable loan status using a pie chart. The pie chart illustrates that 68.7 people out of the 614 in the raw dataset were approved for a loan. The matplotlib library was used to visualize the other libaries and we determined that almost 20% of applicants in the dataset are female, around 65% of the applicants in the dataset are married, about 15% of applicants in the dataset are self-employed, about 85% of applicants have repaid their debts, most of the applicants don’t have dependents, about 80% of the applicants are graduates, most of the applicants are from semi-urban areas. This meant that the dataset was not normally distributed."
   ]
  },
  {
   "cell_type": "markdown",
   "metadata": {},
   "source": [
    "# 2. Data preprocessing\n",
    "This stage of the project was about handling missing data, encoding categorical variables, and performing any necessary feature scaling or transformations to prepare the data for modeling. Through analysis we were able to determine that there are 6 features in the dataset that have missing values. The solution to this problem was to impute missing values by using mean for numerical features and mode for categorical features. Through analysis of the data the loan ID features was found to be irrelevant and therefore was removed from the dataset.\n",
    "\n",
    "Moreover, several columns of the dataset had values in text format for instance the gender feature had categorical values male and female, married had either yes or no etc. The models that are we bui"
   ]
  }
 ],
 "metadata": {
  "language_info": {
   "name": "python"
  }
 },
 "nbformat": 4,
 "nbformat_minor": 2
}
